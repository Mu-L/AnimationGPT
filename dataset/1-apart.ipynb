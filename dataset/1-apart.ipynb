{
 "cells": [
  {
   "cell_type": "code",
   "execution_count": 2,
   "id": "cabdabd1-ca67-400e-9201-9ec41228d4bf",
   "metadata": {},
   "outputs": [],
   "source": [
    "import os\n",
    "\n",
    "# Function to get all filenames with a specific extension in a directory\n",
    "def get_files_with_extension_and_exclude_prefix(directory, extension, exclude_prefix):\n",
    "    file_list = []\n",
    "    for filename in os.listdir(directory):\n",
    "        if filename.endswith(extension) and not filename.startswith(exclude_prefix):\n",
    "            file_list.append(filename)\n",
    "    return file_list\n",
    "\n",
    "# Input folder and extension\n",
    "input_folder = \"./new_joint_vecs\"\n",
    "file_extension = \".npy\"\n",
    "exclude_prefix = 'M'\n",
    "\n",
    "# Get a list of all files with the specified extension and excluding the prefix in the input folder\n",
    "file_list = get_files_with_extension_and_exclude_prefix(input_folder, file_extension, exclude_prefix)\n",
    "\n",
    "# Write the file names to all.txt\n",
    "with open(\"all.txt\", \"w\") as file:\n",
    "    for filename in file_list:\n",
    "        file.write(filename.strip(\".npy\") + \"\\n\")\n"
   ]
  },
  {
   "cell_type": "code",
   "execution_count": 3,
   "id": "5d68c008-1ab9-4bdb-8df2-a6943b39c255",
   "metadata": {},
   "outputs": [],
   "source": [
    "import random\n",
    "\n",
    "# Read the file names from all.txt\n",
    "with open(\"all.txt\", \"r\") as file:\n",
    "    all_files = file.readlines()\n",
    "    all_files = [filename.strip() for filename in all_files]\n",
    "\n",
    "# Sort the file names in lexicographic (dictionary) order\n",
    "all_files.sort()\n",
    "\n",
    "# Calculate the number of files for each set based on the given ratios\n",
    "total_files = len(all_files)\n",
    "train_ratio, val_ratio, test_ratio = 0.8, 0.05, 0.15\n",
    "train_count = int(total_files * train_ratio)\n",
    "val_count = int(total_files * val_ratio)\n",
    "test_count = total_files - train_count - val_count\n",
    "\n",
    "# Shuffle the file names randomly\n",
    "random.shuffle(all_files)\n",
    "\n",
    "# Split the file names into training, validation, and test sets\n",
    "train_files = all_files[:train_count]\n",
    "val_files = all_files[train_count:train_count+val_count]\n",
    "test_files = all_files[train_count+val_count:]\n",
    "\n",
    "# Write the file names to the respective output files in lexicographic order\n",
    "with open(\"train.txt\", \"w\") as file:\n",
    "    for filename in sorted(train_files):\n",
    "        file.write(filename.strip(\".npy\") + \"\\n\")\n",
    "\n",
    "with open(\"val.txt\", \"w\") as file:\n",
    "    for filename in sorted(val_files):\n",
    "        file.write(filename.strip(\".npy\") + \"\\n\")\n",
    "\n",
    "with open(\"test.txt\", \"w\") as file:\n",
    "    for filename in sorted(test_files):\n",
    "        file.write(filename.strip(\".npy\") + \"\\n\")\n"
   ]
  },
  {
   "cell_type": "code",
   "execution_count": 4,
   "id": "4a57860b-7717-4f58-951f-de2230c6dcc5",
   "metadata": {},
   "outputs": [],
   "source": [
    "# Function to read file names from a file and return a sorted list\n",
    "def read_and_sort_file(file_path):\n",
    "    with open(file_path, \"r\") as file:\n",
    "        file_names = file.readlines()\n",
    "        file_names = [filename.strip() for filename in file_names]\n",
    "        file_names.sort()\n",
    "    return file_names\n",
    "\n",
    "# Read and sort the file names from train.txt and val.txt\n",
    "train_file_names = read_and_sort_file(\"train.txt\")\n",
    "val_file_names = read_and_sort_file(\"val.txt\")\n",
    "\n",
    "# Merge the file names and write them to train_val.txt\n",
    "with open(\"train_val.txt\", \"w\") as file:\n",
    "    for filename in train_file_names + val_file_names:\n",
    "        file.write(filename.strip(\".npy\") + \"\\n\")\n"
   ]
  }
 ],
 "metadata": {
  "kernelspec": {
   "display_name": "nwpu",
   "language": "python",
   "name": "python3"
  },
  "language_info": {
   "codemirror_mode": {
    "name": "ipython",
    "version": 3
   },
   "file_extension": ".py",
   "mimetype": "text/x-python",
   "name": "python",
   "nbconvert_exporter": "python",
   "pygments_lexer": "ipython3",
   "version": "3.7.13"
  }
 },
 "nbformat": 4,
 "nbformat_minor": 5
}
