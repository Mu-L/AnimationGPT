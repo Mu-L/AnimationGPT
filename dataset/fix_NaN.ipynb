{
 "cells": [
  {
   "cell_type": "code",
   "execution_count": 11,
   "id": "15b2c281-bc09-4ce1-bebd-df58828d0da5",
   "metadata": {},
   "outputs": [],
   "source": [
    "import numpy as np\n",
    "from pathlib import Path\n",
    "\n",
    "def check_files_nan(paths) -> bool:\n",
    "    problems = []\n",
    "    for i, p in enumerate(paths):\n",
    "        t = np.load(p)\n",
    "        if np.isnan(t).any():\n",
    "            print(i, p)\n",
    "            problems.append(p)\n",
    "    return len(problems) > 0"
   ]
  },
  {
   "cell_type": "code",
   "execution_count": 19,
   "id": "9d720264-d607-4176-acb5-2a075e2de0c2",
   "metadata": {},
   "outputs": [
    {
     "name": "stdout",
     "output_type": "stream",
     "text": [
      "1380 new_joints/ER_000_070431.npy\n",
      "1381 new_joints/MER_000_070431.npy\n",
      "10483 new_joints/ER_171_030510.npy\n",
      "10484 new_joints/MER_171_030510.npy\n",
      "16033 new_joints/ER_361_090200.npy\n",
      "16034 new_joints/MER_361_090200.npy\n"
     ]
    },
    {
     "data": {
      "text/plain": [
       "False"
      ]
     },
     "execution_count": 19,
     "metadata": {},
     "output_type": "execute_result"
    }
   ],
   "source": [
    "paths = [f for f in Path('new_joints/').iterdir() if f.is_file()]\n",
    "check_files_nan(paths)"
   ]
  },
  {
   "cell_type": "code",
   "execution_count": 26,
   "id": "2be608e8-3e68-4123-95f1-a2db54ce827c",
   "metadata": {},
   "outputs": [
    {
     "name": "stdout",
     "output_type": "stream",
     "text": [
      "1380 new_joint_vecs/ER_000_070431.npy\n",
      "1381 new_joint_vecs/MER_000_070431.npy\n",
      "1554 new_joint_vecs/ER_000_080922.npy\n",
      "1555 new_joint_vecs/MER_000_080922.npy\n",
      "10483 new_joint_vecs/ER_171_030510.npy\n",
      "10484 new_joint_vecs/MER_171_030510.npy\n",
      "16033 new_joint_vecs/ER_361_090200.npy\n",
      "16034 new_joint_vecs/MER_361_090200.npy\n"
     ]
    },
    {
     "data": {
      "text/plain": [
       "True"
      ]
     },
     "execution_count": 26,
     "metadata": {},
     "output_type": "execute_result"
    }
   ],
   "source": [
    "vec_paths = [f for f in Path('new_joint_vecs/').iterdir() if f.is_file()]\n",
    "check_files_nan(vec_paths)"
   ]
  },
  {
   "cell_type": "code",
   "execution_count": 30,
   "id": "f3380e39-80a1-4360-83fd-d73a67bc22d5",
   "metadata": {},
   "outputs": [
    {
     "name": "stdout",
     "output_type": "stream",
     "text": [
      "texts/ER_000_070431.txt\n",
      "No texts/ER_000_070431.txt\n",
      "texts/MER_000_070431.txt\n",
      "No texts/MER_000_070431.txt\n",
      "texts/ER_000_080922.txt\n",
      "texts/MER_000_080922.txt\n",
      "No texts/MER_000_080922.txt\n",
      "texts/ER_171_030510.txt\n",
      "texts/MER_171_030510.txt\n",
      "No texts/MER_171_030510.txt\n",
      "texts/ER_361_090200.txt\n",
      "texts/MER_361_090200.txt\n",
      "No texts/MER_361_090200.txt\n",
      "new_joints/ER_000_070431.npy\n",
      "new_joints/MER_000_070431.npy\n",
      "new_joints/ER_000_080922.npy\n",
      "new_joints/MER_000_080922.npy\n",
      "new_joints/ER_171_030510.npy\n",
      "new_joints/MER_171_030510.npy\n",
      "new_joints/ER_361_090200.npy\n",
      "new_joints/MER_361_090200.npy\n",
      "new_joint_vecs/ER_000_070431.npy\n",
      "new_joint_vecs/MER_000_070431.npy\n",
      "new_joint_vecs/ER_000_080922.npy\n",
      "new_joint_vecs/MER_000_080922.npy\n",
      "new_joint_vecs/ER_171_030510.npy\n",
      "new_joint_vecs/MER_171_030510.npy\n",
      "new_joint_vecs/ER_361_090200.npy\n",
      "new_joint_vecs/MER_361_090200.npy\n"
     ]
    }
   ],
   "source": [
    "import os\n",
    "\n",
    "L = [\n",
    "    \"ER_000_070431\",\n",
    "    \"MER_000_070431\",\n",
    "    \"ER_000_080922\",\n",
    "    \"MER_000_080922\",\n",
    "    \"ER_171_030510\",\n",
    "    \"MER_171_030510\",\n",
    "    \"ER_361_090200\",\n",
    "    \"MER_361_090200\",\n",
    "]\n",
    "\n",
    "data_dirs = [\"texts\", \"new_joints\", \"new_joint_vecs\"]\n",
    "exts = [\"txt\", \"npy\", \"npy\"]\n",
    "for d, e in zip(data_dirs, exts):\n",
    "    for k in L:\n",
    "        path = f\"{d}/{k}.{e}\"\n",
    "        print(path)\n",
    "        try:\n",
    "            os.remove(path)\n",
    "        except:\n",
    "            print(f\"No {path}\")"
   ]
  },
  {
   "cell_type": "code",
   "execution_count": 33,
   "id": "a7181185-d940-4d3c-8bdf-f71f3af6fd61",
   "metadata": {},
   "outputs": [],
   "source": [
    "def modify_file(path: str):\n",
    "    with open(path, \"r\") as f:\n",
    "        lines = f.readlines()\n",
    "    with open(path, \"w\") as f:\n",
    "        c = 0\n",
    "        for line in lines:\n",
    "            if line.strip() in L:\n",
    "                c += 1\n",
    "                continue\n",
    "            f.write(line)\n",
    "        print(c)"
   ]
  },
  {
   "cell_type": "code",
   "execution_count": 34,
   "id": "831d675d-20aa-4ec8-94f1-b0500f862416",
   "metadata": {},
   "outputs": [
    {
     "name": "stdout",
     "output_type": "stream",
     "text": [
      "4\n"
     ]
    }
   ],
   "source": [
    "modify_file(\"all.txt\")"
   ]
  },
  {
   "cell_type": "code",
   "execution_count": 35,
   "id": "86385004-a1b6-4076-849a-37f7f5d74777",
   "metadata": {},
   "outputs": [
    {
     "name": "stdout",
     "output_type": "stream",
     "text": [
      "0\n",
      "3\n",
      "1\n",
      "4\n"
     ]
    }
   ],
   "source": [
    "modify_file(\"test.txt\")\n",
    "modify_file(\"train.txt\")\n",
    "modify_file(\"val.txt\")\n",
    "modify_file(\"train_val.txt\")"
   ]
  }
 ],
 "metadata": {
  "kernelspec": {
   "display_name": "Python [conda env:mdm]",
   "language": "python",
   "name": "conda-env-mdm-py"
  },
  "language_info": {
   "codemirror_mode": {
    "name": "ipython",
    "version": 3
   },
   "file_extension": ".py",
   "mimetype": "text/x-python",
   "name": "python",
   "nbconvert_exporter": "python",
   "pygments_lexer": "ipython3",
   "version": "3.7.13"
  }
 },
 "nbformat": 4,
 "nbformat_minor": 5
}
