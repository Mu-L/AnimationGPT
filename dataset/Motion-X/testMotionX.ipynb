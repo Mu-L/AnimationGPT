{
 "cells": [
  {
   "cell_type": "code",
   "execution_count": 1,
   "metadata": {},
   "outputs": [],
   "source": [
    "import numpy as np\n",
    "import sys\n",
    "import os\n",
    "from os.path import join as pjoin"
   ]
  },
  {
   "cell_type": "code",
   "execution_count": 3,
   "metadata": {},
   "outputs": [],
   "source": [
    "face_motion_data1 = np.load('face_motion_data/000000_clip0000.npy')\n",
    "face_motion_data2 = np.load('face_motion_data/000.npy')\n",
    "face_motion_data3 = np.load('face_motion_data/001.npy')\n",
    "face_motion_data4 = np.load('face_motion_data/000002_clip0000.npy')\n",
    "face_motion_data5 = np.load('face_motion_data/airplane_pass_1.npy')\n",
    "face_motion_data6 = np.load('face_motion_data/gamecontroller_play_1.npy')"
   ]
  },
  {
   "cell_type": "code",
   "execution_count": 7,
   "metadata": {},
   "outputs": [
    {
     "name": "stdout",
     "output_type": "stream",
     "text": [
      "(97, 153)\n",
      "(450, 153)\n",
      "(401, 153)\n",
      "(69, 153)\n",
      "(149, 153)\n",
      "(146, 153)\n"
     ]
    }
   ],
   "source": [
    "print(face_motion_data1.shape)\n",
    "print(face_motion_data2.shape)\n",
    "print(face_motion_data3.shape)\n",
    "print(face_motion_data4.shape)\n",
    "print(face_motion_data5.shape)\n",
    "print(face_motion_data6.shape)"
   ]
  },
  {
   "cell_type": "code",
   "execution_count": null,
   "metadata": {},
   "outputs": [],
   "source": [
    "motion_data1 = np.load('motion_data/32_Form_Tai_Chi_Demonstration_Master_Form3_Single_Whip_Left.npy')\n",
    "motion_data2 = np.load('motion_data/32_Form_Tai_Chi_Demonstration_Master_Form3_Single_Whip_Left2.npy')\n",
    "motion_data3 = np.load('motion_data/Dance_Break_3_Step.npy')\n",
    "motion_data4 = np.load('motion_data/Dance_Krump_Arm_Swing_clip_1.npy')\n",
    "motion_data5 = np.load('motion_data/Ways_To_Catch_360.npy')\n",
    "motion_data6 = np.load('motion_data/Ways_To_Wake_Up_Fall_Out_Of_Bed.npy')"
   ]
  }
 ],
 "metadata": {
  "kernelspec": {
   "display_name": "nwpu",
   "language": "python",
   "name": "python3"
  },
  "language_info": {
   "codemirror_mode": {
    "name": "ipython",
    "version": 3
   },
   "file_extension": ".py",
   "mimetype": "text/x-python",
   "name": "python",
   "nbconvert_exporter": "python",
   "pygments_lexer": "ipython3",
   "version": "3.7.16"
  }
 },
 "nbformat": 4,
 "nbformat_minor": 4
}
